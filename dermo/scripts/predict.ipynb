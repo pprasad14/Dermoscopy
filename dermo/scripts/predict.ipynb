{
 "cells": [
  {
   "cell_type": "markdown",
   "metadata": {},
   "source": [
    "# ● Libraries"
   ]
  },
  {
   "cell_type": "code",
   "execution_count": 1,
   "metadata": {},
   "outputs": [],
   "source": [
    "import tqdm\n",
    "import time\n",
    "import numpy as np\n",
    "import cv2\n",
    "from sklearn.metrics import (roc_curve, auc, accuracy_score, f1_score, precision_score, \n",
    "                             recall_score, classification_report, confusion_matrix)\n",
    "import seaborn as sn\n",
    "import pandas as pd\n",
    "from sklearn.model_selection import train_test_split, cross_val_score, cross_validate, StratifiedKFold\n",
    "from dataio import *\n",
    "from preprocess import *\n",
    "from segment import *\n",
    "from colorfeatures import *\n",
    "from classify import *\n",
    "from feature_extraction import *"
   ]
  },
  {
   "cell_type": "code",
   "execution_count": 84,
   "metadata": {},
   "outputs": [],
   "source": [
    "# Load Prior Session Variables\n",
    "import dill\n",
    "#dill.dump_session('predict_env.db')\n",
    "#dill.load_session('predict_env.db')"
   ]
  },
  {
   "cell_type": "markdown",
   "metadata": {},
   "source": [
    "# ● Dataset"
   ]
  },
  {
   "cell_type": "code",
   "execution_count": 3,
   "metadata": {},
   "outputs": [
    {
     "name": "stdout",
     "output_type": "stream",
     "text": [
      "Number of LES Images: 2400\n",
      "Number of NV Images: 2400\n"
     ]
    }
   ],
   "source": [
    "train_data = sortData('../data/train')                 # Load Training Set"
   ]
  },
  {
   "cell_type": "code",
   "execution_count": 4,
   "metadata": {},
   "outputs": [
    {
     "name": "stdout",
     "output_type": "stream",
     "text": [
      "Number of LES Images: 600\n",
      "Number of NV Images: 600\n"
     ]
    }
   ],
   "source": [
    "val_data   = sortData('../data/val')                   # Load Validation Set"
   ]
  },
  {
   "cell_type": "code",
   "execution_count": 5,
   "metadata": {},
   "outputs": [
    {
     "name": "stdout",
     "output_type": "stream",
     "text": [
      "Number of Test Images: 1015\n"
     ]
    }
   ],
   "source": [
    "test_data   = sortData('../data/test', mode='test')     # Load Testing Set"
   ]
  },
  {
   "cell_type": "markdown",
   "metadata": {},
   "source": [
    "# ● Feature Extraction: (Train+Val) Datasets"
   ]
  },
  {
   "cell_type": "code",
   "execution_count": 6,
   "metadata": {},
   "outputs": [
    {
     "name": "stderr",
     "output_type": "stream",
     "text": [
      "100%|████████████████████████████████████████████████████████████████████████████| 4800/4800 [2:44:30<00:00,  2.06s/it]\n"
     ]
    },
    {
     "name": "stdout",
     "output_type": "stream",
     "text": [
      "Features Extraction (Training Set) Complete: 4800\n"
     ]
    }
   ],
   "source": [
    "train_features_les = [] \n",
    "train_features_nv  = []\n",
    "\n",
    "counter      = 0\n",
    "start        = 0\n",
    "stop         = len(train_data)\n",
    "\n",
    "for index in tqdm.tqdm(range(start,stop)):\n",
    "    time.sleep(0.01)\n",
    "\n",
    "    # Load Dataset\n",
    "    image    = plt.imread(train_data[index]['image'])\n",
    "    scan_id  = train_data[index]['id']\n",
    "    label    = train_data[index]['label']\n",
    "        \n",
    "    # External Preprocessing (Discontinued)\n",
    "    # hr,_     = occlusion_removal(image)       # Occlusion Removal\n",
    "    # cl       = clahe_LAB(hr)                  # CLAHE Preprocessing\n",
    "    \n",
    "    # Segmentation (Discontinued)\n",
    "    # mask     = segment_lesion(image, mode=\"active_contours\")\n",
    "    # mask     = (plt.imread(train_data[index]['mask'])).astype(bool)\n",
    "        \n",
    "    # Feature Extraction\n",
    "    features = extract_features(image)\n",
    "    features = np.expand_dims(np.asarray(features),axis=0)\n",
    "    \n",
    "    # Pass to Feature Vectors\n",
    "    if (label==1):                           # LES Features\n",
    "        if (len(train_features_les)==0):\n",
    "            train_features_les = features\n",
    "        else:\n",
    "            train_features_les = np.concatenate((train_features_les,features),axis=0)\n",
    "    if (label==0):                           # NV Features\n",
    "        if (len(train_features_nv)==0):\n",
    "            train_features_nv = features\n",
    "        else:\n",
    "            train_features_nv = np.concatenate((train_features_nv,features),axis=0)\n",
    "    counter = counter + 1\n",
    "\n",
    "print(\"Features Extraction (Training Set) Complete: \"+str(counter))"
   ]
  },
  {
   "cell_type": "code",
   "execution_count": 7,
   "metadata": {},
   "outputs": [
    {
     "name": "stderr",
     "output_type": "stream",
     "text": [
      "100%|██████████████████████████████████████████████████████████████████████████████| 1200/1200 [37:37<00:00,  1.88s/it]\n"
     ]
    },
    {
     "name": "stdout",
     "output_type": "stream",
     "text": [
      "Features Extraction (Validation Set) Complete: 1200\n"
     ]
    }
   ],
   "source": [
    "val_features_les = [] \n",
    "val_features_nv  = []\n",
    "\n",
    "counter      = 0\n",
    "start        = 0\n",
    "stop         = len(val_data)\n",
    "\n",
    "for index in tqdm.tqdm(range(start,stop)):\n",
    "    time.sleep(0.01)\n",
    "\n",
    "    # Load Dataset\n",
    "    image    = plt.imread(val_data[index]['image'])\n",
    "    scan_id  = val_data[index]['id']\n",
    "    label    = val_data[index]['label']\n",
    "    \n",
    "    # External Preprocessing (Discontinued)\n",
    "    # hr,_     = occlusion_removal(image)       # Occlusion Removal\n",
    "    # cl       = clahe_LAB(hr)                  # CLAHE Preprocessing\n",
    "    \n",
    "    # Segmentation (Discontinued)\n",
    "    # mask     = segment_lesion(cl, mode=\"active_contours\")   \n",
    "    # mask     = (plt.imread(train_data[index]['mask'])).astype(bool)\n",
    "    \n",
    "    # Feature Extraction\n",
    "    features = extract_features(image)\n",
    "    features = np.expand_dims(np.asarray(features),axis=0)\n",
    "    \n",
    "    # Pass to Feature Vectors\n",
    "    if (label==1):                           # LES Features\n",
    "        if (len(val_features_les)==0):\n",
    "            val_features_les = features\n",
    "        else:\n",
    "            val_features_les = np.concatenate((val_features_les,features),axis=0)\n",
    "    if (label==0):                           # NV Features\n",
    "        if (len(val_features_nv)==0):\n",
    "            val_features_nv = features\n",
    "        else:\n",
    "            val_features_nv = np.concatenate((val_features_nv,features),axis=0)\n",
    "    counter = counter + 1\n",
    "\n",
    "print(\"Features Extraction (Validation Set) Complete: \"+str(counter))"
   ]
  },
  {
   "cell_type": "markdown",
   "metadata": {},
   "source": [
    "# ● Feature Extraction: Test Dataset"
   ]
  },
  {
   "cell_type": "code",
   "execution_count": 4,
   "metadata": {},
   "outputs": [
    {
     "name": "stderr",
     "output_type": "stream",
     "text": [
      "100%|██████████████████████████████████████████████████████████████████████████████| 1015/1015 [33:18<00:00,  1.97s/it]\n"
     ]
    },
    {
     "name": "stdout",
     "output_type": "stream",
     "text": [
      "Features Extraction (Testing Set) Complete: 1015\n"
     ]
    }
   ],
   "source": [
    "test_features = [] \n",
    "\n",
    "counter      = 0\n",
    "start        = 0\n",
    "stop         = len(test_data)\n",
    "\n",
    "for index in tqdm.tqdm(range(start,stop)):\n",
    "    time.sleep(0.01)\n",
    "\n",
    "    # Load Dataset\n",
    "    image    = plt.imread(test_data[index]['image'])\n",
    "    scan_id  = test_data[index]['id']\n",
    "    \n",
    "    # External Preprocessing (Discontinued)\n",
    "    # hr,_     = occlusion_removal(image)       # Occlusion Removal\n",
    "    # cl       = clahe_LAB(hr)                  # CLAHE Preprocessing\n",
    "    \n",
    "    # Segmentation (Discontinued)\n",
    "    # mask     = segment_lesion(cl, mode=\"active_contours\")   \n",
    "    # mask     = (plt.imread(train_data[index]['mask'])).astype(bool)\n",
    "    \n",
    "    # Feature Extraction\n",
    "    features = extract_features(image)\n",
    "    features = np.expand_dims(np.asarray(features),axis=0)\n",
    "    \n",
    "    # Pass to Feature Vectors\n",
    "    if (len(test_features)==0):\n",
    "        test_features = features\n",
    "        test_ids      = scan_id.replace(\"../data/test\\\\\", \"\")\n",
    "    else:\n",
    "        test_features = np.concatenate((test_features,features),axis=0)\n",
    "        test_ids      = np.append(test_ids,scan_id)\n",
    "    \n",
    "    counter = counter + 1\n",
    "\n",
    "print(\"Features Extraction (Testing Set) Complete: \"+str(counter))"
   ]
  },
  {
   "cell_type": "markdown",
   "metadata": {},
   "source": [
    "# ● Merge, Shuffle, Concatenate, Normalize"
   ]
  },
  {
   "cell_type": "code",
   "execution_count": 4,
   "metadata": {},
   "outputs": [],
   "source": [
    "# Combine Train/Val Feature Vectors\n",
    "full_features_les = np.zeros(shape=(train_features_les.shape[0]+val_features_les.shape[0],train_features_les.shape[1]))\n",
    "full_features_nv  = np.zeros(shape=(train_features_nv.shape[0]+val_features_nv.shape[0],train_features_nv.shape[1]))\n",
    "\n",
    "full_features_les[:train_features_les.shape[0],:] = train_features_les\n",
    "full_features_les[train_features_les.shape[0]:,:] = val_features_les\n",
    "full_features_nv[:train_features_nv.shape[0],:]   = train_features_nv\n",
    "full_features_nv[train_features_nv.shape[0]:,:]   = val_features_nv\n",
    "\n",
    "# Intra-Class Shuffle\n",
    "rnd                = np.random.RandomState(8)\n",
    "shuffled_indices   = rnd.permutation(np.arange(full_features_nv.shape[0]))\n",
    "full_features_les  = full_features_les[shuffled_indices]\n",
    "full_features_nv   = full_features_nv[shuffled_indices]"
   ]
  },
  {
   "cell_type": "code",
   "execution_count": 74,
   "metadata": {},
   "outputs": [],
   "source": [
    "# Inter-Class Shuffle (Not Mandatory), Concatenation, Normalization\n",
    "# \"Unlike the backpropagation learning algorithm for artificial neural networks, a given SVM will always deterministically\n",
    "#  converge to the same solution for a given data set, regardless of the initial conditions. [Campbell and Cristianini, 1999]\"\n",
    "\n",
    "X, Y               = concat_and_shuffled(class0=full_features_nv, class1=full_features_les, shuffled=False)\n",
    "\n",
    "# Scaling Test Features Blindly by Those Determined During Training/Validation \n",
    "Z                  = (test_features-np.mean(X,axis=0))/np.std(X,axis=0)\n",
    "X                  = (X-np.mean(X,axis=0))/np.std(X,axis=0)"
   ]
  },
  {
   "cell_type": "markdown",
   "metadata": {},
   "source": [
    "# ● Classifier: Training"
   ]
  },
  {
   "cell_type": "code",
   "execution_count": 75,
   "metadata": {},
   "outputs": [
    {
     "data": {
      "text/plain": [
       "SVC(C=10, cache_size=200, class_weight='balanced', coef0=0.0,\n",
       "    decision_function_shape='ovr', degree=3, gamma='scale', kernel='rbf',\n",
       "    max_iter=-1, probability=True, random_state=8, shrinking=True, tol=0.001,\n",
       "    verbose=False)"
      ]
     },
     "execution_count": 75,
     "metadata": {},
     "output_type": "execute_result"
    }
   ],
   "source": [
    "SVMclassifier = svm.SVC(C=10, kernel='rbf', gamma='scale', probability=True, class_weight='balanced', random_state=8)\n",
    "SVMclassifier.fit(X,Y)"
   ]
  },
  {
   "cell_type": "code",
   "execution_count": 76,
   "metadata": {},
   "outputs": [
    {
     "data": {
      "image/png": "[encoded data removed]",
      "text/plain": [
       "<Figure size 432x360 with 1 Axes>"
      ]
     },
     "metadata": {
      "needs_background": "light"
     },
     "output_type": "display_data"
    }
   ],
   "source": [
    "# Redundancy Check (Training=Validation=High)\n",
    "ROC(X,Y,X,Y,SVMclassifier)"
   ]
  },
  {
   "cell_type": "markdown",
   "metadata": {},
   "source": [
    "# ● Classifier: Inference"
   ]
  },
  {
   "cell_type": "code",
   "execution_count": 77,
   "metadata": {},
   "outputs": [
    {
     "name": "stdout",
     "output_type": "stream",
     "text": [
      "Expecting 0: 0.03166666666666667\n",
      "Expecting 1: 0.9733333333333334\n"
     ]
    }
   ],
   "source": [
    "# Redundancy Check (Verify Order of Predictions)\n",
    "expecting_label_0 = SVMclassifier.predict(X[:3000,:])\n",
    "expecting_label_1 = SVMclassifier.predict(X[3000:,:])\n",
    "\n",
    "# First 3000 samples are Class 0: NV; Second 3000 samples are Class 1: LES\n",
    "# Inference Accuracy should be High, since we're predicting on the Training Set\n",
    "print(\"Expecting 0: \" + str(expecting_label_0.mean()))\n",
    "print(\"Expecting 1: \" + str(expecting_label_1.mean()))"
   ]
  },
  {
   "cell_type": "code",
   "execution_count": 100,
   "metadata": {},
   "outputs": [
    {
     "data": {
      "text/plain": [
       "0.35763546798029555"
      ]
     },
     "execution_count": 100,
     "metadata": {},
     "output_type": "execute_result"
    }
   ],
   "source": [
    "inference_labels = SVMclassifier.predict(Z)\n",
    "inference_probs  = SVMclassifier.predict_proba(Z)\n",
    "inference_probs  = np.maximum(inference_probs[:,0],inference_probs[:,1])\n",
    "inference_ids    = test_ids\n",
    "\n",
    "# Predicting More NV or LES?\n",
    "inference_labels.mean()"
   ]
  },
  {
   "cell_type": "code",
   "execution_count": 101,
   "metadata": {},
   "outputs": [],
   "source": [
    "predictions    =  pd.DataFrame(list(zip(inference_ids,inference_labels,inference_probs)),\n",
    "columns        =  ['img_id', 'lbl', 'prob'])\n",
    "predictions.to_csv('predictions_testset.csv', encoding='utf-8', index=False)  "
   ]
  }
 ],
 "metadata": {
  "kernelspec": {
   "display_name": "Python 3",
   "language": "python",
   "name": "python3"
  },
  "language_info": {
   "codemirror_mode": {
    "name": "ipython",
    "version": 3
   },
   "file_extension": ".py",
   "mimetype": "text/x-python",
   "name": "python",
   "nbconvert_exporter": "python",
   "pygments_lexer": "ipython3",
   "version": "3.7.3"
  }
 },
 "nbformat": 4,
 "nbformat_minor": 4
}
